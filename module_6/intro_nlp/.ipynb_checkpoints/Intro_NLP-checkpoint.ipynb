{
 "cells": [
  {
   "cell_type": "markdown",
   "metadata": {},
   "source": [
    "<font face=\"serif\" size=\"6\" color=\"scarlet\">Natural Language Processing</font>\n",
    "<font face=\"serif\" size=\"4\">- it is a field in machine learning/deep learning that deals with understanding, analyzing, manipulating and generating language.</font>\n",
    "        \n",
    "  <font face=\"script\" size=\"4\">\"Learn a language and you'll avoid a war\"-Arab proverb</font>\n",
    "\n",
    "\n",
    "<font face=\"serif\" size=\"4\">**It is not Neuro-linguistic programming and it is not Natural Language Understanding**</font>"
   ]
  },
  {
   "cell_type": "markdown",
   "metadata": {},
   "source": [
    " <font face=\"script\" size=\"6\" color=\"scarlet\">NLP in the Real World</font>\n",
    " - https://smmry.com/\n",
    " - https://translate.google.com/\n",
    " - https://www.ted.com/talks/ken_jennings_watson_jeopardy_and_me_the_obsolete_know_it_all"
   ]
  },
  {
   "cell_type": "markdown",
   "metadata": {},
   "source": [
    "<font face=\"serif\" size=\"4\">Definitions</font>\n",
    "<font face=\"serif\" size=\"4\"> \n",
    "* **Corpus/corpora** - a collection of written texts\n",
    "* **Linguistics** - the scientific study of language. Its form, meaning and context\n",
    "* **Information theory** - the study of how information is stored, quantified and communicated \n",
    "* **Morphology** - the study of words their formation and their relationship to other words\n",
    "</font>"
   ]
  },
  {
   "cell_type": "markdown",
   "metadata": {},
   "source": [
    "<font face=\"serif\" size=\"4\">**Natural Language Tool Kit (NLTK)**</font>\n",
    "\n",
    "[documentation](https://www.nltk.org/)"
   ]
  },
  {
   "cell_type": "markdown",
   "metadata": {},
   "source": [
    "<font face=\"serif\" size=\"4\">**Tokenization** -splitting the whole into pieces or tokens. A word is a token in a whole sentence. A sentence is a token in a whole paragraph. </font>"
   ]
  },
  {
   "cell_type": "code",
   "execution_count": 23,
   "metadata": {},
   "outputs": [
    {
     "data": {
      "text/plain": [
       "['I', 'am', 'Jon', 'Snow', 'of', 'House', 'Stark', '.']"
      ]
     },
     "execution_count": 23,
     "metadata": {},
     "output_type": "execute_result"
    }
   ],
   "source": [
    "#how to split a sentence into a list of words \n",
    "from nltk.tokenize import word_tokenize\n",
    "word_tokenize('I am Jon Snow of House Stark.')"
   ]
  },
  {
   "cell_type": "code",
   "execution_count": 19,
   "metadata": {},
   "outputs": [],
   "source": [
    "import nltk \n",
    "from nltk.tokenize import sent_tokenize #sentence tokenizer \n"
   ]
  },
  {
   "cell_type": "code",
   "execution_count": 20,
   "metadata": {},
   "outputs": [
    {
     "name": "stderr",
     "output_type": "stream",
     "text": [
      "[nltk_data] Downloading package punkt to\n",
      "[nltk_data]     /Users/amberyandow/nltk_data...\n",
      "[nltk_data]   Unzipping tokenizers/punkt.zip.\n"
     ]
    },
    {
     "data": {
      "text/plain": [
       "True"
      ]
     },
     "execution_count": 20,
     "metadata": {},
     "output_type": "execute_result"
    }
   ],
   "source": [
    "nltk.download('punkt')"
   ]
  },
  {
   "cell_type": "code",
   "execution_count": null,
   "metadata": {},
   "outputs": [],
   "source": []
  },
  {
   "cell_type": "markdown",
   "metadata": {},
   "source": [
    "<font face=\"serif\" size=\"4\">**Stop Words Removal** - </font>"
   ]
  },
  {
   "cell_type": "markdown",
   "metadata": {},
   "source": [
    "<font face=\"serif\" size=\"4\">Regular Expressions</font>"
   ]
  },
  {
   "cell_type": "markdown",
   "metadata": {},
   "source": [
    "![](regex_cheat_sheet.png)\n",
    "\n",
    "<a href=\"https://www.debuggex.com/cheatsheet/regex/python\">Regex Cheatsheet</a>"
   ]
  },
  {
   "cell_type": "markdown",
   "metadata": {},
   "source": [
    "<font face=\"serif\" size=\"6\" color=\"scarlet\">Feature Engineering</font>"
   ]
  },
  {
   "cell_type": "markdown",
   "metadata": {},
   "source": [
    "<font face=\"serif\" size=\"4\">**Stemming** - a technique to remove affixes from a word and ending up with the stem. Play would be the stem of a word and the 'ing' in playing would be an affix.</font>"
   ]
  },
  {
   "cell_type": "markdown",
   "metadata": {},
   "source": [
    "<font face=\"serif\" size=\"4\">Lemming</font>"
   ]
  },
  {
   "cell_type": "markdown",
   "metadata": {},
   "source": [
    "<font face=\"serif\" size=\"4\">Part of Speech Tagging (POS tagging)</font>"
   ]
  },
  {
   "cell_type": "markdown",
   "metadata": {},
   "source": [
    "<font face=\"serif\" size=\"6\" color=\"scarlet\">Text Vectorization</font>"
   ]
  },
  {
   "cell_type": "markdown",
   "metadata": {},
   "source": [
    "<font face=\"serif\" size=\"4\">Count Vectorizing</font>"
   ]
  },
  {
   "cell_type": "markdown",
   "metadata": {},
   "source": [
    "<font face=\"serif\" size=\"4\">Term Frequency-Inverse Document Frequency (TF-IDF)</font>"
   ]
  },
  {
   "cell_type": "markdown",
   "metadata": {},
   "source": [
    "<font face=\"serif\" size=\"4\" color=\"scarlet\">**_Term Frequency_** is calculated with the following formula:\n",
    "\n",
    "$$\\large Term\\ Frequency(t) = \\frac{number\\ of\\ times\\ t\\ appears\\ in\\ a\\ document} {total\\ number\\ of\\ terms\\ in\\ the\\ document} $$ \n",
    "\n",
    "**_Inverse Document Frequency_** is calculated with the following formula:\n",
    "\n",
    "$$\\large IDF(t) = log_e(\\frac{Total\\ Number\\ of\\ Documents}{Number\\ of\\ Documents\\ with\\ t\\ in\\ it})$$\n",
    "\n",
    "The **_TF-IDF_** value for a given word in a given document is just found by multiplying the two!</font>\n"
   ]
  },
  {
   "cell_type": "markdown",
   "metadata": {},
   "source": [
    "<font face=\"serif\" size=\"4\">Bag of Words</font>"
   ]
  },
  {
   "cell_type": "markdown",
   "metadata": {},
   "source": [
    "<font face=\"serif\" size=\"4\">t-Stochastic Neighbors Embedding (t-SNE)</font>"
   ]
  },
  {
   "cell_type": "code",
   "execution_count": null,
   "metadata": {},
   "outputs": [],
   "source": []
  },
  {
   "cell_type": "markdown",
   "metadata": {},
   "source": [
    "<font face=\"serif\" size=\"3\">**Learning objectives** \n",
    "    \n",
    "You will be able to...\n",
    "- **Explain** what the \"DOM\" is and how to \"program\" it\n",
    "- **Recognize** the DOM as a tree\n",
    "- **Modify** the DOM through Chrome Developer Tools\n",
    "- **Modify** the DOM through JavaScript objects</font>\n"
   ]
  },
  {
   "cell_type": "code",
   "execution_count": null,
   "metadata": {},
   "outputs": [],
   "source": []
  }
 ],
 "metadata": {
  "kernelspec": {
   "display_name": "learn-env",
   "language": "python",
   "name": "learn-env"
  },
  "language_info": {
   "codemirror_mode": {
    "name": "ipython",
    "version": 3
   },
   "file_extension": ".py",
   "mimetype": "text/x-python",
   "name": "python",
   "nbconvert_exporter": "python",
   "pygments_lexer": "ipython3",
   "version": "3.7.3"
  }
 },
 "nbformat": 4,
 "nbformat_minor": 2
}
